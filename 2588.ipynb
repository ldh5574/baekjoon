{
  "nbformat": 4,
  "nbformat_minor": 0,
  "metadata": {
    "colab": {
      "name": "2588.ipynb",
      "provenance": [],
      "collapsed_sections": [],
      "mount_file_id": "1busmIkOLzCg7iQcb3Hn6FAn_WAnsOiEL",
      "authorship_tag": "ABX9TyO6nvMeOb/Yc/fv7j5mtaEZ",
      "include_colab_link": true
    },
    "kernelspec": {
      "name": "python3",
      "display_name": "Python 3"
    },
    "language_info": {
      "name": "python"
    }
  },
  "cells": [
    {
      "cell_type": "markdown",
      "metadata": {
        "id": "view-in-github",
        "colab_type": "text"
      },
      "source": [
        "<a href=\"https://colab.research.google.com/github/ldh5574/baekjoon/blob/main/2588.ipynb\" target=\"_parent\"><img src=\"https://colab.research.google.com/assets/colab-badge.svg\" alt=\"Open In Colab\"/></a>"
      ]
    },
    {
      "cell_type": "code",
      "metadata": {
        "colab": {
          "base_uri": "https://localhost:8080/"
        },
        "id": "6TYsDg1n3cG7",
        "outputId": "5e72830e-e4c9-447a-e12c-66082dcd6c7d"
      },
      "source": [
        "a = int(input())\n",
        "b = int(input())\n",
        "b_str = str(b);\n",
        "\n",
        "print(a * int(b_str[2]))\n",
        "print(a * int(b_str[1]))\n",
        "print(a * int(b_str[0]))\n",
        "print(a*b);"
      ],
      "execution_count": 1,
      "outputs": [
        {
          "output_type": "stream",
          "name": "stdout",
          "text": [
            "472\n",
            "385\n",
            "2360\n",
            "3776\n",
            "1416\n",
            "181720\n"
          ]
        }
      ]
    }
  ]
}